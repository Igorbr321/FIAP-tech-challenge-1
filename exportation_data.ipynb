{
 "cells": [
  {
   "cell_type": "markdown",
   "metadata": {},
   "source": [
    "### Bibliotecas e Funções"
   ]
  },
  {
   "cell_type": "code",
   "execution_count": 10,
   "metadata": {},
   "outputs": [],
   "source": [
    "import pandas as pd"
   ]
  },
  {
   "cell_type": "code",
   "execution_count": 11,
   "metadata": {},
   "outputs": [],
   "source": [
    "from functions import *"
   ]
  },
  {
   "cell_type": "markdown",
   "metadata": {},
   "source": [
    "### Leitura dos Dados"
   ]
  },
  {
   "cell_type": "code",
   "execution_count": 12,
   "metadata": {},
   "outputs": [],
   "source": [
    "exp_vinho = pd.read_csv(r'C:\\Users\\Usuario\\Downloads\\FIAP-tech-challenge-1\\Dataset and Instructions\\Exportação Vinhos\\ExpVinho.csv', sep=\";\", thousands=\".\", decimal=\",\")\n",
    "exp_espumantes = pd.read_csv(r'C:\\Users\\Usuario\\Downloads\\FIAP-tech-challenge-1\\Dataset and Instructions\\Exportação Vinhos\\ExpEspumantes.csv', sep=\";\", thousands=\".\", decimal=\",\")\n",
    "exp_suco = pd.read_csv(r'C:\\Users\\Usuario\\Downloads\\FIAP-tech-challenge-1\\Dataset and Instructions\\Exportação Vinhos\\ExpSuco.csv', sep=\";\", thousands=\".\", decimal=\",\")\n",
    "exp_uva = pd.read_csv(r'C:\\Users\\Usuario\\Downloads\\FIAP-tech-challenge-1\\Dataset and Instructions\\Exportação Vinhos\\ExpUva.csv', sep=\";\", thousands=\".\", decimal=\",\")"
   ]
  },
  {
   "cell_type": "markdown",
   "metadata": {},
   "source": [
    "### Organizando os dataframes"
   ]
  },
  {
   "cell_type": "code",
   "execution_count": 13,
   "metadata": {},
   "outputs": [],
   "source": [
    "exp_vinho_org = process_export_data(exp_vinho, 2008, 2023)\n",
    "exp_espumantes_org = process_export_data(exp_espumantes, 2008, 2023)\n",
    "exp_suco_org = process_export_data(exp_suco, 2008, 2023)\n",
    "exp_uva_org = process_export_data(exp_uva, 2008, 2023)"
   ]
  },
  {
   "cell_type": "markdown",
   "metadata": {},
   "source": [
    "> Dados acima não estão agrupados por País, e sim, por ano, possibilitando outra extração para análise anual dos Países."
   ]
  },
  {
   "cell_type": "code",
   "execution_count": 14,
   "metadata": {},
   "outputs": [],
   "source": [
    "exp_vinho_org_p = exp_vinho_org.groupby('País').agg({'Volume Litro': 'sum', 'Valor': 'sum'})\n",
    "exp_vinho_org_p.reset_index(inplace=True)\n",
    "\n",
    "exp_espumantes_org_p = exp_espumantes_org.groupby('País').agg({'Volume Litro': 'sum', 'Valor': 'sum'})\n",
    "exp_espumantes_org_p.reset_index(inplace=True)\n",
    "\n",
    "exp_suco_org_p = exp_suco_org.groupby('País').agg({'Volume Litro': 'sum', 'Valor': 'sum'})\n",
    "exp_suco_org_p.reset_index(inplace=True)\n",
    "\n",
    "exp_uva_org_p = exp_uva_org.groupby('País').agg({'Volume Litro': 'sum', 'Valor': 'sum'})\n",
    "exp_uva_org_p.reset_index(inplace=True)"
   ]
  },
  {
   "cell_type": "code",
   "execution_count": 15,
   "metadata": {},
   "outputs": [],
   "source": [
    "exp_vinho_org_p['Valor Litro'] = exp_vinho_org_p['Valor'] / exp_vinho_org_p['Volume Litro']\n",
    "exp_espumantes_org_p['Valor Litro'] = exp_espumantes_org_p['Valor'] / exp_espumantes_org_p['Volume Litro']\n",
    "exp_suco_org_p['Valor Litro'] = exp_suco_org_p['Valor'] / exp_suco_org_p['Volume Litro']\n",
    "exp_uva_org_p['Valor Litro'] = exp_uva_org_p['Valor'] / exp_uva_org_p['Volume Litro']"
   ]
  },
  {
   "cell_type": "markdown",
   "metadata": {},
   "source": [
    "### Atualizando os nomes dos Países para um padrão"
   ]
  },
  {
   "cell_type": "code",
   "execution_count": 16,
   "metadata": {},
   "outputs": [],
   "source": [
    "exp_vinho_org_p = update_country_names(exp_vinho_org_p, paises_org)\n",
    "exp_espumantes_org_p = update_country_names(exp_espumantes_org_p, paises_org)\n",
    "exp_suco_org_p = update_country_names(exp_suco_org_p, paises_org)\n",
    "exp_uva_org_p = update_country_names(exp_uva_org_p, paises_org)"
   ]
  },
  {
   "cell_type": "markdown",
   "metadata": {},
   "source": [
    "### Importando os dataframes para CSV"
   ]
  },
  {
   "cell_type": "code",
   "execution_count": 17,
   "metadata": {},
   "outputs": [
    {
     "name": "stdout",
     "output_type": "stream",
     "text": [
      "Arquivo salvo em: C:\\Users\\Usuario\\Downloads\\FIAP-tech-challenge-1\\Export of processed data\\Exportation Data\\exportacao_vinho_agrupado_pais.csv\n",
      "Arquivo salvo em: C:\\Users\\Usuario\\Downloads\\FIAP-tech-challenge-1\\Export of processed data\\Exportation Data\\exportacao_espumante_agrupado_pais.csv\n",
      "Arquivo salvo em: C:\\Users\\Usuario\\Downloads\\FIAP-tech-challenge-1\\Export of processed data\\Exportation Data\\exportacao_suco_agrupado_pais.csv\n",
      "Arquivo salvo em: C:\\Users\\Usuario\\Downloads\\FIAP-tech-challenge-1\\Export of processed data\\Exportation Data\\exportacao_uva_agrupado_pais.csv\n"
     ]
    },
    {
     "data": {
      "text/plain": [
       "'C:\\\\Users\\\\Usuario\\\\Downloads\\\\FIAP-tech-challenge-1\\\\Export of processed data\\\\Exportation Data\\\\exportacao_uva_agrupado_pais.csv'"
      ]
     },
     "execution_count": 17,
     "metadata": {},
     "output_type": "execute_result"
    }
   ],
   "source": [
    "# Importando primeiramente os dados agrupados por País.\n",
    "\n",
    "export_dataframe_to_csv(exp_vinho_org_p, r'C:\\Users\\Usuario\\Downloads\\FIAP-tech-challenge-1\\Export of processed data\\Exportation Data', 'exportacao_vinho_agrupado_pais.csv')\n",
    "export_dataframe_to_csv(exp_espumantes_org_p, r'C:\\Users\\Usuario\\Downloads\\FIAP-tech-challenge-1\\Export of processed data\\Exportation Data', 'exportacao_espumante_agrupado_pais.csv')\n",
    "export_dataframe_to_csv(exp_suco_org_p, r'C:\\Users\\Usuario\\Downloads\\FIAP-tech-challenge-1\\Export of processed data\\Exportation Data', 'exportacao_suco_agrupado_pais.csv')\n",
    "export_dataframe_to_csv(exp_uva_org_p, r'C:\\Users\\Usuario\\Downloads\\FIAP-tech-challenge-1\\Export of processed data\\Exportation Data', 'exportacao_uva_agrupado_pais.csv')"
   ]
  },
  {
   "cell_type": "code",
   "execution_count": 18,
   "metadata": {},
   "outputs": [
    {
     "name": "stdout",
     "output_type": "stream",
     "text": [
      "Arquivo salvo em: C:\\Users\\Usuario\\Downloads\\FIAP-tech-challenge-1\\Export of processed data\\Exportation Data\\exportacao_vinho_ano.csv\n",
      "Arquivo salvo em: C:\\Users\\Usuario\\Downloads\\FIAP-tech-challenge-1\\Export of processed data\\Exportation Data\\exportacao_espumante_ano.csv\n",
      "Arquivo salvo em: C:\\Users\\Usuario\\Downloads\\FIAP-tech-challenge-1\\Export of processed data\\Exportation Data\\exportacao_suco_ano.csv\n",
      "Arquivo salvo em: C:\\Users\\Usuario\\Downloads\\FIAP-tech-challenge-1\\Export of processed data\\Exportation Data\\exportacao_uva_ano.csv\n"
     ]
    },
    {
     "data": {
      "text/plain": [
       "'C:\\\\Users\\\\Usuario\\\\Downloads\\\\FIAP-tech-challenge-1\\\\Export of processed data\\\\Exportation Data\\\\exportacao_uva_ano.csv'"
      ]
     },
     "execution_count": 18,
     "metadata": {},
     "output_type": "execute_result"
    }
   ],
   "source": [
    "# Importando os dados que contém as informações de todos os anos de 2008 a 2023.\n",
    "\n",
    "export_dataframe_to_csv(exp_vinho_org, r'C:\\Users\\Usuario\\Downloads\\FIAP-tech-challenge-1\\Export of processed data\\Exportation Data', 'exportacao_vinho_ano.csv')\n",
    "export_dataframe_to_csv(exp_espumantes_org, r'C:\\Users\\Usuario\\Downloads\\FIAP-tech-challenge-1\\Export of processed data\\Exportation Data', 'exportacao_espumante_ano.csv')\n",
    "export_dataframe_to_csv(exp_suco_org, r'C:\\Users\\Usuario\\Downloads\\FIAP-tech-challenge-1\\Export of processed data\\Exportation Data', 'exportacao_suco_ano.csv')\n",
    "export_dataframe_to_csv(exp_uva_org, r'C:\\Users\\Usuario\\Downloads\\FIAP-tech-challenge-1\\Export of processed data\\Exportation Data', 'exportacao_uva_ano.csv')"
   ]
  }
 ],
 "metadata": {
  "kernelspec": {
   "display_name": "Python 3",
   "language": "python",
   "name": "python3"
  },
  "language_info": {
   "codemirror_mode": {
    "name": "ipython",
    "version": 3
   },
   "file_extension": ".py",
   "mimetype": "text/x-python",
   "name": "python",
   "nbconvert_exporter": "python",
   "pygments_lexer": "ipython3",
   "version": "3.13.1"
  }
 },
 "nbformat": 4,
 "nbformat_minor": 2
}
