{
 "cells": [
  {
   "cell_type": "markdown",
   "metadata": {},
   "source": [
    "### Bibliotecas e Funções"
   ]
  },
  {
   "cell_type": "code",
   "execution_count": 140,
   "metadata": {},
   "outputs": [],
   "source": [
    "import pandas as pd"
   ]
  },
  {
   "cell_type": "code",
   "execution_count": 141,
   "metadata": {},
   "outputs": [],
   "source": [
    "from functions import *"
   ]
  },
  {
   "cell_type": "markdown",
   "metadata": {},
   "source": [
    "### Leitura dos Dados"
   ]
  },
  {
   "cell_type": "code",
   "execution_count": 142,
   "metadata": {},
   "outputs": [],
   "source": [
    "imp_vinho = pd.read_csv(r'C:\\Users\\Usuario\\Downloads\\FIAP-tech-challenge-1\\Dataset and Instructions\\Importação Vinhos\\ImpVinhos.csv', sep=';', thousands=\".\", decimal=\",\")\n",
    "imp_sucos = pd.read_csv(r'C:\\Users\\Usuario\\Downloads\\FIAP-tech-challenge-1\\Dataset and Instructions\\Importação Vinhos\\ImpSuco.csv', sep=';', thousands=\".\", decimal=\",\")\n",
    "imp_frescas = pd.read_csv(r'C:\\Users\\Usuario\\Downloads\\FIAP-tech-challenge-1\\Dataset and Instructions\\Importação Vinhos\\ImpFrescas.csv', sep=';', thousands=\".\", decimal=\",\")\n",
    "imp_espumantes = pd.read_csv(r'C:\\Users\\Usuario\\Downloads\\FIAP-tech-challenge-1\\Dataset and Instructions\\Importação Vinhos\\ImpEspumantes.csv', sep=';', thousands=\".\", decimal=\",\")\n",
    "imp_passas = pd.read_csv(r'C:\\Users\\Usuario\\Downloads\\FIAP-tech-challenge-1\\Dataset and Instructions\\Importação Vinhos\\ImpPassas.csv', sep=';', thousands=\".\", decimal=\",\")"
   ]
  },
  {
   "cell_type": "code",
   "execution_count": 143,
   "metadata": {},
   "outputs": [
    {
     "data": {
      "text/html": [
       "<div>\n",
       "<style scoped>\n",
       "    .dataframe tbody tr th:only-of-type {\n",
       "        vertical-align: middle;\n",
       "    }\n",
       "\n",
       "    .dataframe tbody tr th {\n",
       "        vertical-align: top;\n",
       "    }\n",
       "\n",
       "    .dataframe thead th {\n",
       "        text-align: right;\n",
       "    }\n",
       "</style>\n",
       "<table border=\"1\" class=\"dataframe\">\n",
       "  <thead>\n",
       "    <tr style=\"text-align: right;\">\n",
       "      <th></th>\n",
       "      <th>Id</th>\n",
       "      <th>País</th>\n",
       "      <th>1970</th>\n",
       "      <th>1970.1</th>\n",
       "      <th>1971</th>\n",
       "      <th>1971.1</th>\n",
       "      <th>1972</th>\n",
       "      <th>1972.1</th>\n",
       "      <th>1973</th>\n",
       "      <th>1973.1</th>\n",
       "      <th>...</th>\n",
       "      <th>2019</th>\n",
       "      <th>2019.1</th>\n",
       "      <th>2020</th>\n",
       "      <th>2020.1</th>\n",
       "      <th>2021</th>\n",
       "      <th>2021.1</th>\n",
       "      <th>2022</th>\n",
       "      <th>2022.1</th>\n",
       "      <th>2023</th>\n",
       "      <th>2023.1</th>\n",
       "    </tr>\n",
       "  </thead>\n",
       "  <tbody>\n",
       "    <tr>\n",
       "      <th>0</th>\n",
       "      <td>1</td>\n",
       "      <td>Africa do Sul</td>\n",
       "      <td>0</td>\n",
       "      <td>0.0</td>\n",
       "      <td>0</td>\n",
       "      <td>0</td>\n",
       "      <td>0</td>\n",
       "      <td>0</td>\n",
       "      <td>0</td>\n",
       "      <td>0</td>\n",
       "      <td>...</td>\n",
       "      <td>1092042</td>\n",
       "      <td>3604038</td>\n",
       "      <td>627150</td>\n",
       "      <td>1701072</td>\n",
       "      <td>859169</td>\n",
       "      <td>2508140</td>\n",
       "      <td>738116</td>\n",
       "      <td>2266827</td>\n",
       "      <td>522733</td>\n",
       "      <td>1732850</td>\n",
       "    </tr>\n",
       "    <tr>\n",
       "      <th>1</th>\n",
       "      <td>2</td>\n",
       "      <td>Alemanha</td>\n",
       "      <td>52297</td>\n",
       "      <td>30498.0</td>\n",
       "      <td>34606</td>\n",
       "      <td>26027</td>\n",
       "      <td>134438</td>\n",
       "      <td>92103</td>\n",
       "      <td>111523</td>\n",
       "      <td>98638</td>\n",
       "      <td>...</td>\n",
       "      <td>101055</td>\n",
       "      <td>412794</td>\n",
       "      <td>136992</td>\n",
       "      <td>504168</td>\n",
       "      <td>106541</td>\n",
       "      <td>546967</td>\n",
       "      <td>92600</td>\n",
       "      <td>438595</td>\n",
       "      <td>102456</td>\n",
       "      <td>557947</td>\n",
       "    </tr>\n",
       "    <tr>\n",
       "      <th>2</th>\n",
       "      <td>3</td>\n",
       "      <td>Argélia</td>\n",
       "      <td>0</td>\n",
       "      <td>0.0</td>\n",
       "      <td>0</td>\n",
       "      <td>0</td>\n",
       "      <td>0</td>\n",
       "      <td>0</td>\n",
       "      <td>0</td>\n",
       "      <td>0</td>\n",
       "      <td>...</td>\n",
       "      <td>0</td>\n",
       "      <td>0</td>\n",
       "      <td>0</td>\n",
       "      <td>0</td>\n",
       "      <td>0</td>\n",
       "      <td>0</td>\n",
       "      <td>0</td>\n",
       "      <td>0</td>\n",
       "      <td>0</td>\n",
       "      <td>0</td>\n",
       "    </tr>\n",
       "    <tr>\n",
       "      <th>3</th>\n",
       "      <td>4</td>\n",
       "      <td>Arábia Saudita</td>\n",
       "      <td>0</td>\n",
       "      <td>0.0</td>\n",
       "      <td>0</td>\n",
       "      <td>0</td>\n",
       "      <td>0</td>\n",
       "      <td>0</td>\n",
       "      <td>0</td>\n",
       "      <td>0</td>\n",
       "      <td>...</td>\n",
       "      <td>0</td>\n",
       "      <td>0</td>\n",
       "      <td>0</td>\n",
       "      <td>0</td>\n",
       "      <td>2510</td>\n",
       "      <td>8761</td>\n",
       "      <td>0</td>\n",
       "      <td>0</td>\n",
       "      <td>8</td>\n",
       "      <td>161</td>\n",
       "    </tr>\n",
       "    <tr>\n",
       "      <th>4</th>\n",
       "      <td>5</td>\n",
       "      <td>Argentina</td>\n",
       "      <td>19525</td>\n",
       "      <td>12260.0</td>\n",
       "      <td>24942</td>\n",
       "      <td>15022</td>\n",
       "      <td>104906</td>\n",
       "      <td>58137</td>\n",
       "      <td>116887</td>\n",
       "      <td>76121</td>\n",
       "      <td>...</td>\n",
       "      <td>16548931</td>\n",
       "      <td>54527380</td>\n",
       "      <td>22610267</td>\n",
       "      <td>66322932</td>\n",
       "      <td>26869241</td>\n",
       "      <td>79527959</td>\n",
       "      <td>27980574</td>\n",
       "      <td>87519642</td>\n",
       "      <td>25276991</td>\n",
       "      <td>83918138</td>\n",
       "    </tr>\n",
       "  </tbody>\n",
       "</table>\n",
       "<p>5 rows × 110 columns</p>\n",
       "</div>"
      ],
      "text/plain": [
       "   Id            País   1970   1970.1   1971  1971.1    1972  1972.1    1973  \\\n",
       "0   1   Africa do Sul      0      0.0      0       0       0       0       0   \n",
       "1   2        Alemanha  52297  30498.0  34606   26027  134438   92103  111523   \n",
       "2   3         Argélia      0      0.0      0       0       0       0       0   \n",
       "3   4  Arábia Saudita      0      0.0      0       0       0       0       0   \n",
       "4   5       Argentina  19525  12260.0  24942   15022  104906   58137  116887   \n",
       "\n",
       "   1973.1  ...      2019    2019.1      2020    2020.1      2021    2021.1  \\\n",
       "0       0  ...   1092042   3604038    627150   1701072    859169   2508140   \n",
       "1   98638  ...    101055    412794    136992    504168    106541    546967   \n",
       "2       0  ...         0         0         0         0         0         0   \n",
       "3       0  ...         0         0         0         0      2510      8761   \n",
       "4   76121  ...  16548931  54527380  22610267  66322932  26869241  79527959   \n",
       "\n",
       "       2022    2022.1      2023    2023.1  \n",
       "0    738116   2266827    522733   1732850  \n",
       "1     92600    438595    102456    557947  \n",
       "2         0         0         0         0  \n",
       "3         0         0         8       161  \n",
       "4  27980574  87519642  25276991  83918138  \n",
       "\n",
       "[5 rows x 110 columns]"
      ]
     },
     "execution_count": 143,
     "metadata": {},
     "output_type": "execute_result"
    }
   ],
   "source": [
    "imp_vinho.head()"
   ]
  },
  {
   "cell_type": "markdown",
   "metadata": {},
   "source": [
    "### Organizando os dataframes"
   ]
  },
  {
   "cell_type": "code",
   "execution_count": 144,
   "metadata": {},
   "outputs": [],
   "source": [
    "imp_vinho_org = process_export_data(imp_vinho, 2014, 2023)\n",
    "imp_sucos_org = process_export_data(imp_sucos, 2014, 2023)\n",
    "imp_frescas_org = process_export_data(imp_frescas, 2014, 2023)\n",
    "imp_espumantes_org = process_export_data(imp_espumantes, 2014, 2023)\n",
    "imp_passas_org = process_export_data(imp_passas, 2014, 2023)"
   ]
  },
  {
   "cell_type": "markdown",
   "metadata": {},
   "source": [
    "> Dados acima não estão agrupados por País, e sim, por ano, possibilitando outra extração para análise anual dos Países."
   ]
  },
  {
   "cell_type": "code",
   "execution_count": 145,
   "metadata": {},
   "outputs": [],
   "source": [
    "imp_vinho_org_p = imp_vinho_org.groupby('País').agg({'Volume Litro' : 'sum', 'Valor' : 'sum'})\n",
    "imp_vinho_org_p.reset_index(inplace=True)\n",
    "\n",
    "imp_sucos_org_p = imp_sucos_org.groupby('País').agg({'Volume Litro': 'sum', 'Valor': 'sum'})\n",
    "imp_sucos_org_p.reset_index(inplace=True)\n",
    "\n",
    "imp_frescas_org_p = imp_frescas_org.groupby('País').agg({'Volume Litro': 'sum', 'Valor': 'sum'})\n",
    "imp_frescas_org_p.reset_index(inplace=True)\n",
    "\n",
    "imp_espumantes_org_p = imp_espumantes_org.groupby('País').agg({'Volume Litro': 'sum', 'Valor': 'sum'})\n",
    "imp_espumantes_org_p.reset_index(inplace=True)\n",
    "\n",
    "imp_passas_org_p = imp_passas_org.groupby('País').agg({'Volume Litro': 'sum', 'Valor': 'sum'})\n",
    "imp_passas_org_p.reset_index(inplace=True)"
   ]
  },
  {
   "cell_type": "code",
   "execution_count": 146,
   "metadata": {},
   "outputs": [],
   "source": [
    "imp_vinho_org_p['Valor Litro'] = imp_vinho_org_p['Valor'] / imp_vinho_org_p['Volume Litro']\n",
    "imp_sucos_org_p['Valor Litro'] = imp_sucos_org_p['Valor'] / imp_sucos_org_p['Volume Litro']\n",
    "imp_frescas_org_p['Valor Litro'] = imp_frescas_org_p['Valor'] / imp_frescas_org_p['Volume Litro']\n",
    "imp_espumantes_org_p['Valor Litro'] = imp_espumantes_org_p['Valor'] /imp_espumantes_org_p['Volume Litro']\n",
    "imp_passas_org_p['Valor Litro'] = imp_passas_org_p['Valor'] /imp_passas_org_p['Volume Litro']"
   ]
  },
  {
   "cell_type": "markdown",
   "metadata": {},
   "source": [
    "### Atualizando os nomes dos Países para um padrão"
   ]
  },
  {
   "cell_type": "code",
   "execution_count": 147,
   "metadata": {},
   "outputs": [],
   "source": [
    "paises = pd.concat([imp_vinho_org_p['País'], imp_sucos_org_p['País'], imp_frescas_org_p['País'], imp_espumantes_org_p['País'],imp_passas_org_p['País']])"
   ]
  },
  {
   "cell_type": "code",
   "execution_count": 148,
   "metadata": {},
   "outputs": [],
   "source": [
    "paises.drop_duplicates(inplace=True)\n",
    "# paises.to_csv('paises_imp.csv', sep=',', index=False)"
   ]
  },
  {
   "cell_type": "code",
   "execution_count": 149,
   "metadata": {},
   "outputs": [],
   "source": [
    "imp_vinho_org_p = update_country_names(imp_vinho_org_p, paises_org)\n",
    "imp_sucos_org_p = update_country_names(imp_sucos_org_p, paises_org)\n",
    "imp_frescas_org_p = update_country_names(imp_frescas_org_p, paises_org)\n",
    "imp_espumantes_org_p = update_country_names(imp_espumantes_org_p, paises_org)\n",
    "imp_passas_org_p = update_country_names(imp_passas_org_p, paises_org)"
   ]
  },
  {
   "cell_type": "code",
   "execution_count": 150,
   "metadata": {},
   "outputs": [],
   "source": [
    "imp_vinho_org = update_country_names(imp_vinho_org, paises_org)\n",
    "imp_sucos_org = update_country_names(imp_sucos_org, paises_org)\n",
    "imp_frescas_org = update_country_names(imp_frescas_org, paises_org)\n",
    "imp_espumantes_org = update_country_names(imp_espumantes_org, paises_org)\n",
    "imp_passas_org = update_country_names(imp_passas_org, paises_org)"
   ]
  },
  {
   "cell_type": "markdown",
   "metadata": {},
   "source": [
    "### Enriquecendo o Dataframe com dados econômicos"
   ]
  },
  {
   "cell_type": "code",
   "execution_count": 151,
   "metadata": {},
   "outputs": [],
   "source": [
    "df_pib = pd.read_csv(r'C:\\Users\\Usuario\\Downloads\\FIAP-tech-challenge-1\\pib_2013_2023.csv', sep=',')"
   ]
  },
  {
   "cell_type": "code",
   "execution_count": 152,
   "metadata": {},
   "outputs": [],
   "source": [
    "df_pib['País'] = df_pib['País'].map(country_translation)"
   ]
  },
  {
   "cell_type": "code",
   "execution_count": 153,
   "metadata": {},
   "outputs": [],
   "source": [
    "imp_vinho_org = imp_vinho_org.merge(df_pib[['País', 'Ano', 'PIB']], how='left', on=['País', 'Ano'])"
   ]
  },
  {
   "cell_type": "code",
   "execution_count": 154,
   "metadata": {},
   "outputs": [],
   "source": [
    "imp_sucos_org = imp_sucos_org.merge(df_pib[['País', 'Ano', 'PIB']], how='left', on=['País', 'Ano'])\n",
    "imp_frescas_org = imp_frescas_org.merge(df_pib[['País', 'Ano', 'PIB']], how='left', on=['País', 'Ano'])\n",
    "imp_espumantes_org = imp_espumantes_org.merge(df_pib[['País', 'Ano', 'PIB']], how='left', on=['País', 'Ano'])\n",
    "imp_passas_org = imp_passas_org.merge(df_pib[['País', 'Ano', 'PIB']], how='left', on=['País', 'Ano'])"
   ]
  },
  {
   "cell_type": "markdown",
   "metadata": {},
   "source": [
    "### Enriquecendo o Dataframe com dados climáticos"
   ]
  },
  {
   "cell_type": "code",
   "execution_count": 155,
   "metadata": {},
   "outputs": [],
   "source": [
    "df_clima = pd.read_excel(r'C:\\Users\\Usuario\\Downloads\\FIAP-tech-challenge-1\\Temperatura Média Países World Banking.xlsx', engine='openpyxl')"
   ]
  },
  {
   "cell_type": "code",
   "execution_count": 156,
   "metadata": {},
   "outputs": [],
   "source": [
    "df_clima.drop(columns=['Unnamed: 0', 'Tipo'], inplace=True)"
   ]
  },
  {
   "cell_type": "code",
   "execution_count": 157,
   "metadata": {},
   "outputs": [
    {
     "data": {
      "text/html": [
       "<div>\n",
       "<style scoped>\n",
       "    .dataframe tbody tr th:only-of-type {\n",
       "        vertical-align: middle;\n",
       "    }\n",
       "\n",
       "    .dataframe tbody tr th {\n",
       "        vertical-align: top;\n",
       "    }\n",
       "\n",
       "    .dataframe thead th {\n",
       "        text-align: right;\n",
       "    }\n",
       "</style>\n",
       "<table border=\"1\" class=\"dataframe\">\n",
       "  <thead>\n",
       "    <tr style=\"text-align: right;\">\n",
       "      <th></th>\n",
       "      <th>País</th>\n",
       "      <th>Temperatura</th>\n",
       "    </tr>\n",
       "  </thead>\n",
       "  <tbody>\n",
       "    <tr>\n",
       "      <th>0</th>\n",
       "      <td>Burkina Faso</td>\n",
       "      <td>30,40</td>\n",
       "    </tr>\n",
       "    <tr>\n",
       "      <th>1</th>\n",
       "      <td>Mali</td>\n",
       "      <td>29,21</td>\n",
       "    </tr>\n",
       "    <tr>\n",
       "      <th>2</th>\n",
       "      <td>Aruba</td>\n",
       "      <td>29,17</td>\n",
       "    </tr>\n",
       "    <tr>\n",
       "      <th>3</th>\n",
       "      <td>Senegal</td>\n",
       "      <td>28,90</td>\n",
       "    </tr>\n",
       "    <tr>\n",
       "      <th>4</th>\n",
       "      <td>Mauritânia</td>\n",
       "      <td>28,82</td>\n",
       "    </tr>\n",
       "  </tbody>\n",
       "</table>\n",
       "</div>"
      ],
      "text/plain": [
       "            País Temperatura\n",
       "0   Burkina Faso       30,40\n",
       "1           Mali       29,21\n",
       "2          Aruba       29,17\n",
       "3        Senegal       28,90\n",
       "4     Mauritânia       28,82"
      ]
     },
     "execution_count": 157,
     "metadata": {},
     "output_type": "execute_result"
    }
   ],
   "source": [
    "df_clima.head()"
   ]
  },
  {
   "cell_type": "code",
   "execution_count": 158,
   "metadata": {},
   "outputs": [],
   "source": [
    "# imp_espumantes_org_p = imp_espumantes_org_p.merge(df_clima[['País', 'Temperatura']], how='left', on='País')"
   ]
  },
  {
   "cell_type": "markdown",
   "metadata": {},
   "source": [
    "### Importando os dataframes para CSV"
   ]
  },
  {
   "cell_type": "code",
   "execution_count": 159,
   "metadata": {},
   "outputs": [
    {
     "name": "stdout",
     "output_type": "stream",
     "text": [
      "Arquivo salvo em: C:\\Users\\Usuario\\Downloads\\FIAP-tech-challenge-1\\Export of processed data\\Importation Data\\importacao_vinho_agrupado_pais.csv\n",
      "Arquivo salvo em: C:\\Users\\Usuario\\Downloads\\FIAP-tech-challenge-1\\Export of processed data\\Importation Data\\importacao_sucos_agrupado_pais.csv\n",
      "Arquivo salvo em: C:\\Users\\Usuario\\Downloads\\FIAP-tech-challenge-1\\Export of processed data\\Importation Data\\importacao_frescas_agrupado_pais.csv\n",
      "Arquivo salvo em: C:\\Users\\Usuario\\Downloads\\FIAP-tech-challenge-1\\Export of processed data\\Importation Data\\importacao_espumantes_agrupado_pais.csv\n",
      "Arquivo salvo em: C:\\Users\\Usuario\\Downloads\\FIAP-tech-challenge-1\\Export of processed data\\Importation Data\\importacao_passas_agrupado_pais.csv\n"
     ]
    },
    {
     "data": {
      "text/plain": [
       "'C:\\\\Users\\\\Usuario\\\\Downloads\\\\FIAP-tech-challenge-1\\\\Export of processed data\\\\Importation Data\\\\importacao_passas_agrupado_pais.csv'"
      ]
     },
     "execution_count": 159,
     "metadata": {},
     "output_type": "execute_result"
    }
   ],
   "source": [
    "# Importando primeiramente os dados agrupados por País.\n",
    "\n",
    "export_dataframe_to_csv(imp_vinho_org_p, r'C:\\Users\\Usuario\\Downloads\\FIAP-tech-challenge-1\\Export of processed data\\Importation Data', 'importacao_vinho_agrupado_pais.csv')\n",
    "export_dataframe_to_csv(imp_sucos_org_p, r'C:\\Users\\Usuario\\Downloads\\FIAP-tech-challenge-1\\Export of processed data\\Importation Data', 'importacao_sucos_agrupado_pais.csv')\n",
    "export_dataframe_to_csv(imp_frescas_org_p, r'C:\\Users\\Usuario\\Downloads\\FIAP-tech-challenge-1\\Export of processed data\\Importation Data', 'importacao_frescas_agrupado_pais.csv')\n",
    "export_dataframe_to_csv(imp_espumantes_org_p, r'C:\\Users\\Usuario\\Downloads\\FIAP-tech-challenge-1\\Export of processed data\\Importation Data', 'importacao_espumantes_agrupado_pais.csv')\n",
    "export_dataframe_to_csv(imp_passas_org_p, r'C:\\Users\\Usuario\\Downloads\\FIAP-tech-challenge-1\\Export of processed data\\Importation Data', 'importacao_passas_agrupado_pais.csv')"
   ]
  },
  {
   "cell_type": "code",
   "execution_count": 160,
   "metadata": {},
   "outputs": [
    {
     "name": "stdout",
     "output_type": "stream",
     "text": [
      "Arquivo salvo em: C:\\Users\\Usuario\\Downloads\\FIAP-tech-challenge-1\\Export of processed data\\Importation Data\\importacao_vinho_ano.csv\n",
      "Arquivo salvo em: C:\\Users\\Usuario\\Downloads\\FIAP-tech-challenge-1\\Export of processed data\\Importation Data\\importacao_sucos_ano.csv\n",
      "Arquivo salvo em: C:\\Users\\Usuario\\Downloads\\FIAP-tech-challenge-1\\Export of processed data\\Importation Data\\importacao_frescas_ano.csv\n",
      "Arquivo salvo em: C:\\Users\\Usuario\\Downloads\\FIAP-tech-challenge-1\\Export of processed data\\Importation Data\\importacao_espumantes_ano.csv\n",
      "Arquivo salvo em: C:\\Users\\Usuario\\Downloads\\FIAP-tech-challenge-1\\Export of processed data\\Importation Data\\importacao_passas_ano.csv\n"
     ]
    },
    {
     "data": {
      "text/plain": [
       "'C:\\\\Users\\\\Usuario\\\\Downloads\\\\FIAP-tech-challenge-1\\\\Export of processed data\\\\Importation Data\\\\importacao_passas_ano.csv'"
      ]
     },
     "execution_count": 160,
     "metadata": {},
     "output_type": "execute_result"
    }
   ],
   "source": [
    "# Importando os dados que contém as informações de todos os anos de 2008 a 2023.\n",
    "\n",
    "export_dataframe_to_csv(imp_vinho_org, r'C:\\Users\\Usuario\\Downloads\\FIAP-tech-challenge-1\\Export of processed data\\Importation Data', 'importacao_vinho_ano.csv')\n",
    "export_dataframe_to_csv(imp_sucos_org, r'C:\\Users\\Usuario\\Downloads\\FIAP-tech-challenge-1\\Export of processed data\\Importation Data', 'importacao_sucos_ano.csv')\n",
    "export_dataframe_to_csv(imp_frescas_org, r'C:\\Users\\Usuario\\Downloads\\FIAP-tech-challenge-1\\Export of processed data\\Importation Data', 'importacao_frescas_ano.csv')\n",
    "export_dataframe_to_csv(imp_espumantes_org, r'C:\\Users\\Usuario\\Downloads\\FIAP-tech-challenge-1\\Export of processed data\\Importation Data', 'importacao_espumantes_ano.csv')\n",
    "export_dataframe_to_csv(imp_passas_org, r'C:\\Users\\Usuario\\Downloads\\FIAP-tech-challenge-1\\Export of processed data\\Importation Data', 'importacao_passas_ano.csv')"
   ]
  }
 ],
 "metadata": {
  "kernelspec": {
   "display_name": "Python 3",
   "language": "python",
   "name": "python3"
  },
  "language_info": {
   "codemirror_mode": {
    "name": "ipython",
    "version": 3
   },
   "file_extension": ".py",
   "mimetype": "text/x-python",
   "name": "python",
   "nbconvert_exporter": "python",
   "pygments_lexer": "ipython3",
   "version": "3.13.1"
  }
 },
 "nbformat": 4,
 "nbformat_minor": 2
}
