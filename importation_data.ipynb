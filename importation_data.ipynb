{
 "cells": [
  {
   "cell_type": "markdown",
   "metadata": {},
   "source": [
    "### Bibliotecas e Funções"
   ]
  },
  {
   "cell_type": "code",
   "execution_count": 1,
   "metadata": {},
   "outputs": [],
   "source": [
    "import pandas as pd"
   ]
  },
  {
   "cell_type": "code",
   "execution_count": 2,
   "metadata": {},
   "outputs": [],
   "source": [
    "from functions import *"
   ]
  },
  {
   "cell_type": "markdown",
   "metadata": {},
   "source": [
    "### Leitura dos Dados"
   ]
  },
  {
   "cell_type": "code",
   "execution_count": 3,
   "metadata": {},
   "outputs": [],
   "source": [
    "imp_vinho = pd.read_csv(r'C:\\Users\\Usuario\\Downloads\\FIAP-tech-challenge-1\\Dataset and Instructions\\Importação Vinhos\\ImpVinhos.csv', sep=';', thousands=\".\", decimal=\",\")\n",
    "imp_sucos = pd.read_csv(r'C:\\Users\\Usuario\\Downloads\\FIAP-tech-challenge-1\\Dataset and Instructions\\Importação Vinhos\\ImpSuco.csv', sep=';', thousands=\".\", decimal=\",\")\n",
    "imp_frescas = pd.read_csv(r'C:\\Users\\Usuario\\Downloads\\FIAP-tech-challenge-1\\Dataset and Instructions\\Importação Vinhos\\ImpFrescas.csv', sep=';', thousands=\".\", decimal=\",\")\n",
    "imp_espumantes = pd.read_csv(r'C:\\Users\\Usuario\\Downloads\\FIAP-tech-challenge-1\\Dataset and Instructions\\Importação Vinhos\\ImpEspumantes.csv', sep=';', thousands=\".\", decimal=\",\")\n",
    "imp_passas = pd.read_csv(r'C:\\Users\\Usuario\\Downloads\\FIAP-tech-challenge-1\\Dataset and Instructions\\Importação Vinhos\\ImpPassas.csv', sep=';', thousands=\".\", decimal=\",\")"
   ]
  },
  {
   "cell_type": "markdown",
   "metadata": {},
   "source": [
    "### Organizando os dataframes"
   ]
  },
  {
   "cell_type": "code",
   "execution_count": 5,
   "metadata": {},
   "outputs": [],
   "source": [
    "imp_vinho_org = process_export_data(imp_vinho, 2014, 2023)\n",
    "imp_sucos_org = process_export_data(imp_sucos, 2014, 2023)\n",
    "imp_frescas_org = process_export_data(imp_frescas, 2014, 2023)\n",
    "imp_espumantes_org = process_export_data(imp_espumantes, 2014, 2023)\n",
    "imp_passas_org = process_export_data(imp_passas, 2014, 2023)"
   ]
  },
  {
   "cell_type": "markdown",
   "metadata": {},
   "source": [
    "> Dados acima não estão agrupados por País, e sim, por ano, possibilitando outra extração para análise anual dos Países."
   ]
  },
  {
   "cell_type": "code",
   "execution_count": 6,
   "metadata": {},
   "outputs": [],
   "source": [
    "imp_vinho_org_p = imp_vinho_org.groupby('País').agg({'Volume Litro' : 'sum', 'Valor' : 'sum'})\n",
    "imp_vinho_org_p.reset_index(inplace=True)\n",
    "\n",
    "imp_sucos_org_p = imp_sucos_org.groupby('País').agg({'Volume Litro': 'sum', 'Valor': 'sum'})\n",
    "imp_sucos_org_p.reset_index(inplace=True)\n",
    "\n",
    "imp_frescas_org_p = imp_frescas_org.groupby('País').agg({'Volume Litro': 'sum', 'Valor': 'sum'})\n",
    "imp_frescas_org_p.reset_index(inplace=True)\n",
    "\n",
    "imp_espumantes_org_p = imp_espumantes_org.groupby('País').agg({'Volume Litro': 'sum', 'Valor': 'sum'})\n",
    "imp_espumantes_org_p.reset_index(inplace=True)\n",
    "\n",
    "imp_passas_org_p = imp_passas_org.groupby('País').agg({'Volume Litro': 'sum', 'Valor': 'sum'})\n",
    "imp_passas_org_p.reset_index(inplace=True)"
   ]
  },
  {
   "cell_type": "code",
   "execution_count": 7,
   "metadata": {},
   "outputs": [],
   "source": [
    "imp_vinho_org_p['Valor Litro'] = imp_vinho_org_p['Valor'] / imp_vinho_org_p['Volume Litro']\n",
    "imp_sucos_org_p['Valor Litro'] = imp_sucos_org_p['Valor'] / imp_sucos_org_p['Volume Litro']\n",
    "imp_frescas_org_p['Valor Litro'] = imp_frescas_org_p['Valor'] / imp_frescas_org_p['Volume Litro']\n",
    "imp_espumantes_org_p['Valor Litro'] = imp_espumantes_org_p['Valor'] /imp_espumantes_org_p['Volume Litro']\n",
    "imp_passas_org_p['Valor Litro'] = imp_passas_org_p['Valor'] /imp_passas_org_p['Volume Litro']"
   ]
  },
  {
   "cell_type": "markdown",
   "metadata": {},
   "source": [
    "### Atualizando os nomes dos Países para um padrão"
   ]
  },
  {
   "cell_type": "code",
   "execution_count": 8,
   "metadata": {},
   "outputs": [],
   "source": [
    "paises = pd.concat([imp_vinho_org_p['País'], imp_sucos_org_p['País'], imp_frescas_org_p['País'], imp_espumantes_org_p['País'],imp_passas_org_p['País']])"
   ]
  },
  {
   "cell_type": "code",
   "execution_count": 9,
   "metadata": {},
   "outputs": [],
   "source": [
    "paises.drop_duplicates(inplace=True)\n",
    "# paises.to_csv('paises_imp.csv', sep=',', index=False)"
   ]
  },
  {
   "cell_type": "code",
   "execution_count": 10,
   "metadata": {},
   "outputs": [],
   "source": [
    "imp_vinho_org_p = update_country_names(imp_vinho_org_p, paises_org)\n",
    "imp_sucos_org_p = update_country_names(imp_sucos_org_p, paises_org)\n",
    "imp_frescas_org_p = update_country_names(imp_frescas_org_p, paises_org)\n",
    "imp_espumantes_org_p = update_country_names(imp_espumantes_org_p, paises_org)\n",
    "imp_passas_org_p = update_country_names(imp_passas_org_p, paises_org)"
   ]
  },
  {
   "cell_type": "code",
   "execution_count": 11,
   "metadata": {},
   "outputs": [],
   "source": [
    "imp_vinho_org = update_country_names(imp_vinho_org, paises_org)\n",
    "imp_sucos_org = update_country_names(imp_sucos_org, paises_org)\n",
    "imp_frescas_org = update_country_names(imp_frescas_org, paises_org)\n",
    "imp_espumantes_org = update_country_names(imp_espumantes_org, paises_org)\n",
    "imp_passas_org = update_country_names(imp_passas_org, paises_org)"
   ]
  },
  {
   "cell_type": "markdown",
   "metadata": {},
   "source": [
    "### Enriquecendo o Dataframe com dados econômicos"
   ]
  },
  {
   "cell_type": "code",
   "execution_count": 12,
   "metadata": {},
   "outputs": [],
   "source": [
    "df_pib = pd.read_csv(r'C:\\Users\\Usuario\\Downloads\\FIAP-tech-challenge-1\\Dataset and Instructions\\pib_2013_2023.csv', sep=',')"
   ]
  },
  {
   "cell_type": "code",
   "execution_count": 13,
   "metadata": {},
   "outputs": [],
   "source": [
    "df_pib['País'] = df_pib['País'].map(country_translation)"
   ]
  },
  {
   "cell_type": "code",
   "execution_count": 14,
   "metadata": {},
   "outputs": [],
   "source": [
    "imp_vinho_org = imp_vinho_org.merge(df_pib[['País', 'Ano', 'PIB']], how='left', on=['País', 'Ano'])\n",
    "imp_sucos_org = imp_sucos_org.merge(df_pib[['País', 'Ano', 'PIB']], how='left', on=['País', 'Ano'])\n",
    "imp_frescas_org = imp_frescas_org.merge(df_pib[['País', 'Ano', 'PIB']], how='left', on=['País', 'Ano'])\n",
    "imp_espumantes_org = imp_espumantes_org.merge(df_pib[['País', 'Ano', 'PIB']], how='left', on=['País', 'Ano'])\n",
    "imp_passas_org = imp_passas_org.merge(df_pib[['País', 'Ano', 'PIB']], how='left', on=['País', 'Ano'])"
   ]
  },
  {
   "cell_type": "markdown",
   "metadata": {},
   "source": [
    "### Enriquecendo o Dataframe com dados climáticos"
   ]
  },
  {
   "cell_type": "code",
   "execution_count": 15,
   "metadata": {},
   "outputs": [],
   "source": [
    "df_clima = pd.read_excel(r'C:\\Users\\Usuario\\Downloads\\FIAP-tech-challenge-1\\Dataset and Instructions\\Temperatura Média Países World Banking.xlsx', engine='openpyxl')"
   ]
  },
  {
   "cell_type": "code",
   "execution_count": 16,
   "metadata": {},
   "outputs": [],
   "source": [
    "df_clima.drop(columns=['Unnamed: 0', 'Tipo'], inplace=True)"
   ]
  },
  {
   "cell_type": "code",
   "execution_count": 17,
   "metadata": {},
   "outputs": [],
   "source": [
    "df_clima['Temperatura'] = df_clima['Temperatura'].astype(float)"
   ]
  },
  {
   "cell_type": "code",
   "execution_count": 18,
   "metadata": {},
   "outputs": [],
   "source": [
    "imp_vinho_org_p = imp_vinho_org_p.merge(df_clima[['País', 'Temperatura']], how='left', on='País')\n",
    "imp_sucos_org_p = imp_sucos_org_p.merge(df_clima[['País', 'Temperatura']], how='left', on='País')\n",
    "imp_frescas_org_p = imp_frescas_org_p.merge(df_clima[['País', 'Temperatura']], how='left', on='País')\n",
    "imp_espumantes_org_p = imp_espumantes_org_p.merge(df_clima[['País', 'Temperatura']], how='left', on='País')\n",
    "imp_passas_org_p = imp_passas_org_p.merge(df_clima[['País', 'Temperatura']], how='left', on='País')"
   ]
  },
  {
   "cell_type": "markdown",
   "metadata": {},
   "source": [
    "### Importando os dataframes para CSV"
   ]
  },
  {
   "cell_type": "code",
   "execution_count": 19,
   "metadata": {},
   "outputs": [
    {
     "name": "stdout",
     "output_type": "stream",
     "text": [
      "Arquivo salvo em: C:\\Users\\Usuario\\Downloads\\FIAP-tech-challenge-1\\Export of processed data\\Importation Data\\importacao_vinho_agrupado_pais.csv\n",
      "Arquivo salvo em: C:\\Users\\Usuario\\Downloads\\FIAP-tech-challenge-1\\Export of processed data\\Importation Data\\importacao_sucos_agrupado_pais.csv\n",
      "Arquivo salvo em: C:\\Users\\Usuario\\Downloads\\FIAP-tech-challenge-1\\Export of processed data\\Importation Data\\importacao_frescas_agrupado_pais.csv\n",
      "Arquivo salvo em: C:\\Users\\Usuario\\Downloads\\FIAP-tech-challenge-1\\Export of processed data\\Importation Data\\importacao_espumantes_agrupado_pais.csv\n",
      "Arquivo salvo em: C:\\Users\\Usuario\\Downloads\\FIAP-tech-challenge-1\\Export of processed data\\Importation Data\\importacao_passas_agrupado_pais.csv\n"
     ]
    },
    {
     "data": {
      "text/plain": [
       "'C:\\\\Users\\\\Usuario\\\\Downloads\\\\FIAP-tech-challenge-1\\\\Export of processed data\\\\Importation Data\\\\importacao_passas_agrupado_pais.csv'"
      ]
     },
     "execution_count": 19,
     "metadata": {},
     "output_type": "execute_result"
    }
   ],
   "source": [
    "# Importando primeiramente os dados agrupados por País.\n",
    "\n",
    "export_dataframe_to_csv(imp_vinho_org_p, r'C:\\Users\\Usuario\\Downloads\\FIAP-tech-challenge-1\\Export of processed data\\Importation Data', 'importacao_vinho_agrupado_pais.csv')\n",
    "export_dataframe_to_csv(imp_sucos_org_p, r'C:\\Users\\Usuario\\Downloads\\FIAP-tech-challenge-1\\Export of processed data\\Importation Data', 'importacao_sucos_agrupado_pais.csv')\n",
    "export_dataframe_to_csv(imp_frescas_org_p, r'C:\\Users\\Usuario\\Downloads\\FIAP-tech-challenge-1\\Export of processed data\\Importation Data', 'importacao_frescas_agrupado_pais.csv')\n",
    "export_dataframe_to_csv(imp_espumantes_org_p, r'C:\\Users\\Usuario\\Downloads\\FIAP-tech-challenge-1\\Export of processed data\\Importation Data', 'importacao_espumantes_agrupado_pais.csv')\n",
    "export_dataframe_to_csv(imp_passas_org_p, r'C:\\Users\\Usuario\\Downloads\\FIAP-tech-challenge-1\\Export of processed data\\Importation Data', 'importacao_passas_agrupado_pais.csv')"
   ]
  },
  {
   "cell_type": "code",
   "execution_count": 20,
   "metadata": {},
   "outputs": [
    {
     "name": "stdout",
     "output_type": "stream",
     "text": [
      "Arquivo salvo em: C:\\Users\\Usuario\\Downloads\\FIAP-tech-challenge-1\\Export of processed data\\Importation Data\\importacao_vinho_ano.csv\n",
      "Arquivo salvo em: C:\\Users\\Usuario\\Downloads\\FIAP-tech-challenge-1\\Export of processed data\\Importation Data\\importacao_sucos_ano.csv\n",
      "Arquivo salvo em: C:\\Users\\Usuario\\Downloads\\FIAP-tech-challenge-1\\Export of processed data\\Importation Data\\importacao_frescas_ano.csv\n",
      "Arquivo salvo em: C:\\Users\\Usuario\\Downloads\\FIAP-tech-challenge-1\\Export of processed data\\Importation Data\\importacao_espumantes_ano.csv\n",
      "Arquivo salvo em: C:\\Users\\Usuario\\Downloads\\FIAP-tech-challenge-1\\Export of processed data\\Importation Data\\importacao_passas_ano.csv\n"
     ]
    },
    {
     "data": {
      "text/plain": [
       "'C:\\\\Users\\\\Usuario\\\\Downloads\\\\FIAP-tech-challenge-1\\\\Export of processed data\\\\Importation Data\\\\importacao_passas_ano.csv'"
      ]
     },
     "execution_count": 20,
     "metadata": {},
     "output_type": "execute_result"
    }
   ],
   "source": [
    "# Importando os dados que contém as informações de todos os anos de 2008 a 2023.\n",
    "\n",
    "export_dataframe_to_csv(imp_vinho_org, r'C:\\Users\\Usuario\\Downloads\\FIAP-tech-challenge-1\\Export of processed data\\Importation Data', 'importacao_vinho_ano.csv')\n",
    "export_dataframe_to_csv(imp_sucos_org, r'C:\\Users\\Usuario\\Downloads\\FIAP-tech-challenge-1\\Export of processed data\\Importation Data', 'importacao_sucos_ano.csv')\n",
    "export_dataframe_to_csv(imp_frescas_org, r'C:\\Users\\Usuario\\Downloads\\FIAP-tech-challenge-1\\Export of processed data\\Importation Data', 'importacao_frescas_ano.csv')\n",
    "export_dataframe_to_csv(imp_espumantes_org, r'C:\\Users\\Usuario\\Downloads\\FIAP-tech-challenge-1\\Export of processed data\\Importation Data', 'importacao_espumantes_ano.csv')\n",
    "export_dataframe_to_csv(imp_passas_org, r'C:\\Users\\Usuario\\Downloads\\FIAP-tech-challenge-1\\Export of processed data\\Importation Data', 'importacao_passas_ano.csv')"
   ]
  }
 ],
 "metadata": {
  "kernelspec": {
   "display_name": "Python 3",
   "language": "python",
   "name": "python3"
  },
  "language_info": {
   "codemirror_mode": {
    "name": "ipython",
    "version": 3
   },
   "file_extension": ".py",
   "mimetype": "text/x-python",
   "name": "python",
   "nbconvert_exporter": "python",
   "pygments_lexer": "ipython3",
   "version": "3.13.1"
  }
 },
 "nbformat": 4,
 "nbformat_minor": 2
}
