{
 "cells": [
  {
   "cell_type": "markdown",
   "metadata": {},
   "source": [
    "# Análise do Mercado de Vinhos: Exportação e Importação no Brasil"
   ]
  },
  {
   "cell_type": "markdown",
   "metadata": {},
   "source": [
    "## Visão Geral"
   ]
  },
  {
   "cell_type": "markdown",
   "metadata": {},
   "source": [
    "O mercado de vinho brasileiro apresenta uma dinâmica de comércio internacional relevante, com grandes volumes de exportação e importação de vinhos. Este relatório tem como objetivo analisar as exportações de vinhos brasileiros, com foco em informações detalhadas sobre os países de destino, volumes exportados, preços por litro e valores totais.\n",
    "\n",
    "Além desses dados, também dispomos de informações sobre os tipos de vinhos (como vinhos tintos, brancos e espumantes), o que permitirá uma análise mais detalhada das preferências e demandas nos mercados de exportação e importação. Esses dados adicionais ajudarão a compreender como diferentes tipos de vinho impactam os preços e volumes, permitindo uma visão mais precisa dos mercados mais relevantes para o Brasil.\n",
    "\n",
    "O relatório utiliza esses dados para identificar os principais destinos das exportações brasileiras, analisar as variações de preços e volumes, e explorar o papel do Brasil tanto como exportador quanto importador de vinhos. Essa análise é fundamental para entender as tendências do mercado e as oportunidades de crescimento."
   ]
  },
  {
   "cell_type": "markdown",
   "metadata": {},
   "source": [
    "## Exportação de Vinhos\n"
   ]
  },
  {
   "cell_type": "markdown",
   "metadata": {},
   "source": [
    "A partir dos dados disponibilizados pelo portal http://vitibrasil.cnpuv.embrapa.br/index.php?opcao=opt_01, realizamos uma análise detalhada das informações dos últimos 15 anos. Após o processo de tratamento e organização dos dados, geramos a seguinte tabela de exportação, que apresenta de forma clara e estruturada os resultados obtidos. Resultando na seguinte tabela:\n",
    "\n",
    "![Imagem](https://raw.githubusercontent.com/Igorbr321/FIAP-tech-challenge-1/refs/heads/main/Images/tabela_head_dados.png)\n",
    "\n",
    "\n",
    "\n",
    "\n",
    "\n",
    "\n"
   ]
  },
  {
   "cell_type": "markdown",
   "metadata": {},
   "source": [
    "## Importação de Vinhos"
   ]
  },
  {
   "cell_type": "markdown",
   "metadata": {},
   "source": [
    "Analisando os dados de importação dos últimos 15 anos, realizamos o tratamento e a organização das informações. Como resultado, geramos uma tabela consolidada e estruturada. Resultando na seguinte tabela:\n",
    "\n",
    "![Imagem](https://raw.githubusercontent.com/Igorbr321/FIAP-tech-challenge-1/refs/heads/main/Images/tabela_head_dados_imp.png)"
   ]
  },
  {
   "cell_type": "code",
   "execution_count": null,
   "metadata": {},
   "outputs": [],
   "source": [
    "# e um tópico para importação dos vinhos, verificar qual é o mais lucrativo para o Brasil.\n",
    "# Verificar quais vinhos dão mais lucros e qual o que dá menos lucro e ver em qual focar.\n"
   ]
  },
  {
   "cell_type": "markdown",
   "metadata": {},
   "source": []
  }
 ],
 "metadata": {
  "language_info": {
   "name": "python"
  }
 },
 "nbformat": 4,
 "nbformat_minor": 2
}
