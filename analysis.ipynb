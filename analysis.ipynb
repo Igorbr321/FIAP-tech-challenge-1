{
 "cells": [
  {
   "cell_type": "markdown",
   "metadata": {},
   "source": [
    "# Analisando o Mercado de Vinho Brasileiro (Importação e Exportação)"
   ]
  },
  {
   "cell_type": "markdown",
   "metadata": {},
   "source": [
    "## Visão Geral"
   ]
  },
  {
   "cell_type": "markdown",
   "metadata": {},
   "source": [
    "O mercado de vinho brasileiro apresenta uma dinâmica de comércio internacional relevante, com grandes volumes de exportação e importação de vinhos. Este relatório tem como objetivo analisar as exportações de vinhos brasileiros, com foco em informações detalhadas sobre os países de destino, volumes exportados, preços por litro e valores totais.\n",
    "\n",
    "Além desses dados, também dispomos de informações sobre os tipos de vinhos (como vinhos tintos, brancos e espumantes), o que permitirá uma análise mais detalhada das preferências e demandas nos mercados de exportação e importação. Esses dados adicionais ajudarão a compreender como diferentes tipos de vinho impactam os preços e volumes, permitindo uma visão mais precisa dos mercados mais relevantes para o Brasil.\n",
    "\n",
    "O relatório utiliza esses dados para identificar os principais destinos das exportações brasileiras, analisar as variações de preços e volumes, e explorar o papel do Brasil tanto como exportador quanto importador de vinhos. Essa análise é fundamental para entender as tendências do mercado e as oportunidades de crescimento."
   ]
  },
  {
   "cell_type": "markdown",
   "metadata": {},
   "source": [
    "## Dados "
   ]
  },
  {
   "cell_type": "markdown",
   "metadata": {},
   "source": [
    "A partir dos dados disponibilizados pelo portal http://vitibrasil.cnpuv.embrapa.br/index.php?opcao=opt_01, realizamos uma análise detalhada das informações dos últimos 15 anos. Após o processo de tratamento e organização dos dados, geramos a seguinte tabela de exportação, que apresenta de forma clara e estruturada os resultados obtidos. Resultando na seguinte tabela:\n",
    "\n",
    "\n",
    "\n",
    "\n",
    "\n",
    "\n",
    "\n",
    "\n"
   ]
  },
  {
   "cell_type": "code",
   "execution_count": null,
   "metadata": {},
   "outputs": [],
   "source": []
  },
  {
   "cell_type": "markdown",
   "metadata": {},
   "source": []
  }
 ],
 "metadata": {
  "language_info": {
   "name": "python"
  }
 },
 "nbformat": 4,
 "nbformat_minor": 2
}
